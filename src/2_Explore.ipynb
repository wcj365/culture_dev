{
 "cells": [
  {
   "attachments": {},
   "cell_type": "markdown",
   "metadata": {},
   "source": [
    "## Part 2 - Explore Association Statistics"
   ]
  },
  {
   "cell_type": "code",
   "execution_count": 1,
   "metadata": {},
   "outputs": [],
   "source": [
    "import numpy as np\n",
    "import pandas as pd\n",
    "import plotly.express as px\n"
   ]
  },
  {
   "cell_type": "code",
   "execution_count": 2,
   "metadata": {},
   "outputs": [
    {
     "name": "stdout",
     "output_type": "stream",
     "text": [
      "(89404, 11)\n"
     ]
    },
    {
     "data": {
      "text/html": [
       "<div>\n",
       "<style scoped>\n",
       "    .dataframe tbody tr th:only-of-type {\n",
       "        vertical-align: middle;\n",
       "    }\n",
       "\n",
       "    .dataframe tbody tr th {\n",
       "        vertical-align: top;\n",
       "    }\n",
       "\n",
       "    .dataframe thead th {\n",
       "        text-align: right;\n",
       "    }\n",
       "</style>\n",
       "<table border=\"1\" class=\"dataframe\">\n",
       "  <thead>\n",
       "    <tr style=\"text-align: right;\">\n",
       "      <th></th>\n",
       "      <th>Year</th>\n",
       "      <th>Indicator Code</th>\n",
       "      <th>Countries</th>\n",
       "      <th>Pearson R</th>\n",
       "      <th>Pearson P-value</th>\n",
       "      <th>Coefficient</th>\n",
       "      <th>P_value</th>\n",
       "      <th>R_Squared</th>\n",
       "      <th>R_Squared_Adj</th>\n",
       "      <th>Indicator Name</th>\n",
       "      <th>Topic</th>\n",
       "    </tr>\n",
       "  </thead>\n",
       "  <tbody>\n",
       "    <tr>\n",
       "      <th>69640</th>\n",
       "      <td>1976</td>\n",
       "      <td>SH.STA.OWGH.ME.ZS</td>\n",
       "      <td>0</td>\n",
       "      <td>NaN</td>\n",
       "      <td>NaN</td>\n",
       "      <td>NaN</td>\n",
       "      <td>NaN</td>\n",
       "      <td>NaN</td>\n",
       "      <td>NaN</td>\n",
       "      <td>Prevalence of overweight (modeled estimate, % ...</td>\n",
       "      <td>Health: Nutrition</td>\n",
       "    </tr>\n",
       "    <tr>\n",
       "      <th>5886</th>\n",
       "      <td>1982</td>\n",
       "      <td>NV.MNF.FBTO.ZS.UN</td>\n",
       "      <td>42</td>\n",
       "      <td>-0.40</td>\n",
       "      <td>0.01</td>\n",
       "      <td>-0.16</td>\n",
       "      <td>0.01</td>\n",
       "      <td>0.16</td>\n",
       "      <td>0.14</td>\n",
       "      <td>Food, beverages and tobacco (% of value added ...</td>\n",
       "      <td>Economic Policy &amp; Debt: National accounts: Sha...</td>\n",
       "    </tr>\n",
       "    <tr>\n",
       "      <th>72308</th>\n",
       "      <td>1980</td>\n",
       "      <td>IC.FRM.FEMM.ZS</td>\n",
       "      <td>0</td>\n",
       "      <td>NaN</td>\n",
       "      <td>NaN</td>\n",
       "      <td>NaN</td>\n",
       "      <td>NaN</td>\n",
       "      <td>NaN</td>\n",
       "      <td>NaN</td>\n",
       "      <td>Firms with female top manager (% of firms)</td>\n",
       "      <td>Private Sector &amp; Trade: Business environment</td>\n",
       "    </tr>\n",
       "    <tr>\n",
       "      <th>5035</th>\n",
       "      <td>1986</td>\n",
       "      <td>SE.PRM.OENR.MA.ZS</td>\n",
       "      <td>22</td>\n",
       "      <td>-0.43</td>\n",
       "      <td>0.05</td>\n",
       "      <td>-0.14</td>\n",
       "      <td>0.05</td>\n",
       "      <td>0.18</td>\n",
       "      <td>0.14</td>\n",
       "      <td>Over-age students, primary, male (% of male en...</td>\n",
       "      <td>Education: Efficiency</td>\n",
       "    </tr>\n",
       "    <tr>\n",
       "      <th>86527</th>\n",
       "      <td>2011</td>\n",
       "      <td>EP.PMP.SGAS.CD</td>\n",
       "      <td>0</td>\n",
       "      <td>NaN</td>\n",
       "      <td>NaN</td>\n",
       "      <td>NaN</td>\n",
       "      <td>NaN</td>\n",
       "      <td>NaN</td>\n",
       "      <td>NaN</td>\n",
       "      <td>Pump price for gasoline (US$ per liter)</td>\n",
       "      <td>Infrastructure: Transportation</td>\n",
       "    </tr>\n",
       "  </tbody>\n",
       "</table>\n",
       "</div>"
      ],
      "text/plain": [
       "       Year     Indicator Code  Countries  Pearson R  Pearson P-value  \\\n",
       "69640  1976  SH.STA.OWGH.ME.ZS          0        NaN              NaN   \n",
       "5886   1982  NV.MNF.FBTO.ZS.UN         42      -0.40             0.01   \n",
       "72308  1980     IC.FRM.FEMM.ZS          0        NaN              NaN   \n",
       "5035   1986  SE.PRM.OENR.MA.ZS         22      -0.43             0.05   \n",
       "86527  2011     EP.PMP.SGAS.CD          0        NaN              NaN   \n",
       "\n",
       "       Coefficient  P_value  R_Squared  R_Squared_Adj  \\\n",
       "69640          NaN      NaN        NaN            NaN   \n",
       "5886         -0.16     0.01       0.16           0.14   \n",
       "72308          NaN      NaN        NaN            NaN   \n",
       "5035         -0.14     0.05       0.18           0.14   \n",
       "86527          NaN      NaN        NaN            NaN   \n",
       "\n",
       "                                          Indicator Name  \\\n",
       "69640  Prevalence of overweight (modeled estimate, % ...   \n",
       "5886   Food, beverages and tobacco (% of value added ...   \n",
       "72308         Firms with female top manager (% of firms)   \n",
       "5035   Over-age students, primary, male (% of male en...   \n",
       "86527            Pump price for gasoline (US$ per liter)   \n",
       "\n",
       "                                                   Topic  \n",
       "69640                                  Health: Nutrition  \n",
       "5886   Economic Policy & Debt: National accounts: Sha...  \n",
       "72308       Private Sector & Trade: Business environment  \n",
       "5035                               Education: Efficiency  \n",
       "86527                     Infrastructure: Transportation  "
      ]
     },
     "execution_count": 2,
     "metadata": {},
     "output_type": "execute_result"
    }
   ],
   "source": [
    "df = pd.read_csv(\"../data/results.csv\")\n",
    "\n",
    "print(df.shape)\n",
    "\n",
    "df.sample(5)"
   ]
  },
  {
   "cell_type": "code",
   "execution_count": 13,
   "metadata": {},
   "outputs": [
    {
     "name": "stdout",
     "output_type": "stream",
     "text": [
      "(2968, 11)\n"
     ]
    },
    {
     "data": {
      "text/html": [
       "<div>\n",
       "<style scoped>\n",
       "    .dataframe tbody tr th:only-of-type {\n",
       "        vertical-align: middle;\n",
       "    }\n",
       "\n",
       "    .dataframe tbody tr th {\n",
       "        vertical-align: top;\n",
       "    }\n",
       "\n",
       "    .dataframe thead th {\n",
       "        text-align: right;\n",
       "    }\n",
       "</style>\n",
       "<table border=\"1\" class=\"dataframe\">\n",
       "  <thead>\n",
       "    <tr style=\"text-align: right;\">\n",
       "      <th></th>\n",
       "      <th>Year</th>\n",
       "      <th>Indicator Code</th>\n",
       "      <th>Countries</th>\n",
       "      <th>Pearson R</th>\n",
       "      <th>Pearson P-value</th>\n",
       "      <th>Coefficient</th>\n",
       "      <th>P_value</th>\n",
       "      <th>R_Squared</th>\n",
       "      <th>R_Squared_Adj</th>\n",
       "      <th>Indicator Name</th>\n",
       "      <th>Topic</th>\n",
       "    </tr>\n",
       "  </thead>\n",
       "  <tbody>\n",
       "    <tr>\n",
       "      <th>408</th>\n",
       "      <td>2017</td>\n",
       "      <td>EN.ATM.PM25.MC.T3.ZS</td>\n",
       "      <td>59</td>\n",
       "      <td>-0.73</td>\n",
       "      <td>0.0</td>\n",
       "      <td>-1.26</td>\n",
       "      <td>0.0</td>\n",
       "      <td>0.53</td>\n",
       "      <td>0.52</td>\n",
       "      <td>PM2.5 pollution, population exposed to levels ...</td>\n",
       "      <td>Environment: Emissions</td>\n",
       "    </tr>\n",
       "    <tr>\n",
       "      <th>409</th>\n",
       "      <td>2014</td>\n",
       "      <td>EN.ATM.PM25.MC.T3.ZS</td>\n",
       "      <td>59</td>\n",
       "      <td>-0.73</td>\n",
       "      <td>0.0</td>\n",
       "      <td>-1.27</td>\n",
       "      <td>0.0</td>\n",
       "      <td>0.53</td>\n",
       "      <td>0.52</td>\n",
       "      <td>PM2.5 pollution, population exposed to levels ...</td>\n",
       "      <td>Environment: Emissions</td>\n",
       "    </tr>\n",
       "    <tr>\n",
       "      <th>417</th>\n",
       "      <td>2015</td>\n",
       "      <td>EN.ATM.PM25.MC.T3.ZS</td>\n",
       "      <td>59</td>\n",
       "      <td>-0.72</td>\n",
       "      <td>0.0</td>\n",
       "      <td>-1.25</td>\n",
       "      <td>0.0</td>\n",
       "      <td>0.52</td>\n",
       "      <td>0.51</td>\n",
       "      <td>PM2.5 pollution, population exposed to levels ...</td>\n",
       "      <td>Environment: Emissions</td>\n",
       "    </tr>\n",
       "    <tr>\n",
       "      <th>420</th>\n",
       "      <td>2013</td>\n",
       "      <td>EN.ATM.PM25.MC.T3.ZS</td>\n",
       "      <td>59</td>\n",
       "      <td>-0.72</td>\n",
       "      <td>0.0</td>\n",
       "      <td>-1.24</td>\n",
       "      <td>0.0</td>\n",
       "      <td>0.52</td>\n",
       "      <td>0.51</td>\n",
       "      <td>PM2.5 pollution, population exposed to levels ...</td>\n",
       "      <td>Environment: Emissions</td>\n",
       "    </tr>\n",
       "    <tr>\n",
       "      <th>423</th>\n",
       "      <td>2016</td>\n",
       "      <td>EN.ATM.PM25.MC.T3.ZS</td>\n",
       "      <td>59</td>\n",
       "      <td>-0.72</td>\n",
       "      <td>0.0</td>\n",
       "      <td>-1.25</td>\n",
       "      <td>0.0</td>\n",
       "      <td>0.52</td>\n",
       "      <td>0.51</td>\n",
       "      <td>PM2.5 pollution, population exposed to levels ...</td>\n",
       "      <td>Environment: Emissions</td>\n",
       "    </tr>\n",
       "    <tr>\n",
       "      <th>...</th>\n",
       "      <td>...</td>\n",
       "      <td>...</td>\n",
       "      <td>...</td>\n",
       "      <td>...</td>\n",
       "      <td>...</td>\n",
       "      <td>...</td>\n",
       "      <td>...</td>\n",
       "      <td>...</td>\n",
       "      <td>...</td>\n",
       "      <td>...</td>\n",
       "      <td>...</td>\n",
       "    </tr>\n",
       "    <tr>\n",
       "      <th>52829</th>\n",
       "      <td>2015</td>\n",
       "      <td>SH.XPD.GHED.PP.CD</td>\n",
       "      <td>59</td>\n",
       "      <td>0.75</td>\n",
       "      <td>0.0</td>\n",
       "      <td>46.31</td>\n",
       "      <td>0.0</td>\n",
       "      <td>0.56</td>\n",
       "      <td>0.55</td>\n",
       "      <td>Domestic general government health expenditure...</td>\n",
       "      <td>Health: Health systems</td>\n",
       "    </tr>\n",
       "    <tr>\n",
       "      <th>52847</th>\n",
       "      <td>2011</td>\n",
       "      <td>SH.XPD.GHED.PP.CD</td>\n",
       "      <td>59</td>\n",
       "      <td>0.75</td>\n",
       "      <td>0.0</td>\n",
       "      <td>41.90</td>\n",
       "      <td>0.0</td>\n",
       "      <td>0.56</td>\n",
       "      <td>0.55</td>\n",
       "      <td>Domestic general government health expenditure...</td>\n",
       "      <td>Health: Health systems</td>\n",
       "    </tr>\n",
       "    <tr>\n",
       "      <th>52852</th>\n",
       "      <td>2018</td>\n",
       "      <td>SH.XPD.GHED.PP.CD</td>\n",
       "      <td>59</td>\n",
       "      <td>0.75</td>\n",
       "      <td>0.0</td>\n",
       "      <td>53.15</td>\n",
       "      <td>0.0</td>\n",
       "      <td>0.56</td>\n",
       "      <td>0.56</td>\n",
       "      <td>Domestic general government health expenditure...</td>\n",
       "      <td>Health: Health systems</td>\n",
       "    </tr>\n",
       "    <tr>\n",
       "      <th>52873</th>\n",
       "      <td>2008</td>\n",
       "      <td>PA.NUS.PPPC.RF</td>\n",
       "      <td>60</td>\n",
       "      <td>0.76</td>\n",
       "      <td>0.0</td>\n",
       "      <td>0.01</td>\n",
       "      <td>0.0</td>\n",
       "      <td>0.58</td>\n",
       "      <td>0.57</td>\n",
       "      <td>Price level ratio of PPP conversion factor (GD...</td>\n",
       "      <td>Economic Policy &amp; Debt: Purchasing power parity</td>\n",
       "    </tr>\n",
       "    <tr>\n",
       "      <th>52904</th>\n",
       "      <td>2007</td>\n",
       "      <td>PA.NUS.PPPC.RF</td>\n",
       "      <td>60</td>\n",
       "      <td>0.76</td>\n",
       "      <td>0.0</td>\n",
       "      <td>0.01</td>\n",
       "      <td>0.0</td>\n",
       "      <td>0.58</td>\n",
       "      <td>0.57</td>\n",
       "      <td>Price level ratio of PPP conversion factor (GD...</td>\n",
       "      <td>Economic Policy &amp; Debt: Purchasing power parity</td>\n",
       "    </tr>\n",
       "  </tbody>\n",
       "</table>\n",
       "<p>2968 rows × 11 columns</p>\n",
       "</div>"
      ],
      "text/plain": [
       "       Year        Indicator Code  Countries  Pearson R  Pearson P-value  \\\n",
       "408    2017  EN.ATM.PM25.MC.T3.ZS         59      -0.73              0.0   \n",
       "409    2014  EN.ATM.PM25.MC.T3.ZS         59      -0.73              0.0   \n",
       "417    2015  EN.ATM.PM25.MC.T3.ZS         59      -0.72              0.0   \n",
       "420    2013  EN.ATM.PM25.MC.T3.ZS         59      -0.72              0.0   \n",
       "423    2016  EN.ATM.PM25.MC.T3.ZS         59      -0.72              0.0   \n",
       "...     ...                   ...        ...        ...              ...   \n",
       "52829  2015     SH.XPD.GHED.PP.CD         59       0.75              0.0   \n",
       "52847  2011     SH.XPD.GHED.PP.CD         59       0.75              0.0   \n",
       "52852  2018     SH.XPD.GHED.PP.CD         59       0.75              0.0   \n",
       "52873  2008        PA.NUS.PPPC.RF         60       0.76              0.0   \n",
       "52904  2007        PA.NUS.PPPC.RF         60       0.76              0.0   \n",
       "\n",
       "       Coefficient  P_value  R_Squared  R_Squared_Adj  \\\n",
       "408          -1.26      0.0       0.53           0.52   \n",
       "409          -1.27      0.0       0.53           0.52   \n",
       "417          -1.25      0.0       0.52           0.51   \n",
       "420          -1.24      0.0       0.52           0.51   \n",
       "423          -1.25      0.0       0.52           0.51   \n",
       "...            ...      ...        ...            ...   \n",
       "52829        46.31      0.0       0.56           0.55   \n",
       "52847        41.90      0.0       0.56           0.55   \n",
       "52852        53.15      0.0       0.56           0.56   \n",
       "52873         0.01      0.0       0.58           0.57   \n",
       "52904         0.01      0.0       0.58           0.57   \n",
       "\n",
       "                                          Indicator Name  \\\n",
       "408    PM2.5 pollution, population exposed to levels ...   \n",
       "409    PM2.5 pollution, population exposed to levels ...   \n",
       "417    PM2.5 pollution, population exposed to levels ...   \n",
       "420    PM2.5 pollution, population exposed to levels ...   \n",
       "423    PM2.5 pollution, population exposed to levels ...   \n",
       "...                                                  ...   \n",
       "52829  Domestic general government health expenditure...   \n",
       "52847  Domestic general government health expenditure...   \n",
       "52852  Domestic general government health expenditure...   \n",
       "52873  Price level ratio of PPP conversion factor (GD...   \n",
       "52904  Price level ratio of PPP conversion factor (GD...   \n",
       "\n",
       "                                                 Topic  \n",
       "408                             Environment: Emissions  \n",
       "409                             Environment: Emissions  \n",
       "417                             Environment: Emissions  \n",
       "420                             Environment: Emissions  \n",
       "423                             Environment: Emissions  \n",
       "...                                                ...  \n",
       "52829                           Health: Health systems  \n",
       "52847                           Health: Health systems  \n",
       "52852                           Health: Health systems  \n",
       "52873  Economic Policy & Debt: Purchasing power parity  \n",
       "52904  Economic Policy & Debt: Purchasing power parity  \n",
       "\n",
       "[2968 rows x 11 columns]"
      ]
     },
     "execution_count": 13,
     "metadata": {},
     "output_type": "execute_result"
    }
   ],
   "source": [
    "df_05 = df[(df[\"Pearson P-value\"] <= 0.05) & (df[\"Countries\"] >= 50) & (df[\"R_Squared_Adj\"] >=0.20) & (df[\"Year\"] >= 2000)]\n",
    "\n",
    "print(df_05.shape)\n",
    "\n",
    "df_05"
   ]
  },
  {
   "cell_type": "code",
   "execution_count": 14,
   "metadata": {},
   "outputs": [
    {
     "data": {
      "application/vnd.plotly.v1+json": {
       "config": {
        "plotlyServerURL": "https://plot.ly"
       },
       "data": [
        {
         "hovertemplate": "Year=%{x}<br>Pearson R=%{y}<extra></extra>",
         "legendgroup": "",
         "marker": {
          "color": "#636efa",
          "symbol": "circle"
         },
         "mode": "markers",
         "name": "",
         "orientation": "v",
         "showlegend": false,
         "type": "scatter",
         "x": [
          2000,
          2005,
          2015,
          2004,
          2010,
          2001,
          2002,
          2008,
          2012,
          2007,
          2014,
          2006,
          2011,
          2003,
          2013,
          2009,
          2017,
          2018,
          2016,
          2020,
          2019
         ],
         "xaxis": "x",
         "y": [
          0.68,
          0.68,
          0.68,
          0.69,
          0.69,
          0.69,
          0.69,
          0.69,
          0.69,
          0.69,
          0.7,
          0.7,
          0.7,
          0.7,
          0.7,
          0.71,
          0.72,
          0.72,
          0.72,
          0.72,
          0.73
         ],
         "yaxis": "y"
        }
       ],
       "layout": {
        "legend": {
         "tracegroupgap": 0
        },
        "margin": {
         "t": 60
        },
        "template": {
         "data": {
          "bar": [
           {
            "error_x": {
             "color": "#2a3f5f"
            },
            "error_y": {
             "color": "#2a3f5f"
            },
            "marker": {
             "line": {
              "color": "#E5ECF6",
              "width": 0.5
             },
             "pattern": {
              "fillmode": "overlay",
              "size": 10,
              "solidity": 0.2
             }
            },
            "type": "bar"
           }
          ],
          "barpolar": [
           {
            "marker": {
             "line": {
              "color": "#E5ECF6",
              "width": 0.5
             },
             "pattern": {
              "fillmode": "overlay",
              "size": 10,
              "solidity": 0.2
             }
            },
            "type": "barpolar"
           }
          ],
          "carpet": [
           {
            "aaxis": {
             "endlinecolor": "#2a3f5f",
             "gridcolor": "white",
             "linecolor": "white",
             "minorgridcolor": "white",
             "startlinecolor": "#2a3f5f"
            },
            "baxis": {
             "endlinecolor": "#2a3f5f",
             "gridcolor": "white",
             "linecolor": "white",
             "minorgridcolor": "white",
             "startlinecolor": "#2a3f5f"
            },
            "type": "carpet"
           }
          ],
          "choropleth": [
           {
            "colorbar": {
             "outlinewidth": 0,
             "ticks": ""
            },
            "type": "choropleth"
           }
          ],
          "contour": [
           {
            "colorbar": {
             "outlinewidth": 0,
             "ticks": ""
            },
            "colorscale": [
             [
              0,
              "#0d0887"
             ],
             [
              0.1111111111111111,
              "#46039f"
             ],
             [
              0.2222222222222222,
              "#7201a8"
             ],
             [
              0.3333333333333333,
              "#9c179e"
             ],
             [
              0.4444444444444444,
              "#bd3786"
             ],
             [
              0.5555555555555556,
              "#d8576b"
             ],
             [
              0.6666666666666666,
              "#ed7953"
             ],
             [
              0.7777777777777778,
              "#fb9f3a"
             ],
             [
              0.8888888888888888,
              "#fdca26"
             ],
             [
              1,
              "#f0f921"
             ]
            ],
            "type": "contour"
           }
          ],
          "contourcarpet": [
           {
            "colorbar": {
             "outlinewidth": 0,
             "ticks": ""
            },
            "type": "contourcarpet"
           }
          ],
          "heatmap": [
           {
            "colorbar": {
             "outlinewidth": 0,
             "ticks": ""
            },
            "colorscale": [
             [
              0,
              "#0d0887"
             ],
             [
              0.1111111111111111,
              "#46039f"
             ],
             [
              0.2222222222222222,
              "#7201a8"
             ],
             [
              0.3333333333333333,
              "#9c179e"
             ],
             [
              0.4444444444444444,
              "#bd3786"
             ],
             [
              0.5555555555555556,
              "#d8576b"
             ],
             [
              0.6666666666666666,
              "#ed7953"
             ],
             [
              0.7777777777777778,
              "#fb9f3a"
             ],
             [
              0.8888888888888888,
              "#fdca26"
             ],
             [
              1,
              "#f0f921"
             ]
            ],
            "type": "heatmap"
           }
          ],
          "heatmapgl": [
           {
            "colorbar": {
             "outlinewidth": 0,
             "ticks": ""
            },
            "colorscale": [
             [
              0,
              "#0d0887"
             ],
             [
              0.1111111111111111,
              "#46039f"
             ],
             [
              0.2222222222222222,
              "#7201a8"
             ],
             [
              0.3333333333333333,
              "#9c179e"
             ],
             [
              0.4444444444444444,
              "#bd3786"
             ],
             [
              0.5555555555555556,
              "#d8576b"
             ],
             [
              0.6666666666666666,
              "#ed7953"
             ],
             [
              0.7777777777777778,
              "#fb9f3a"
             ],
             [
              0.8888888888888888,
              "#fdca26"
             ],
             [
              1,
              "#f0f921"
             ]
            ],
            "type": "heatmapgl"
           }
          ],
          "histogram": [
           {
            "marker": {
             "pattern": {
              "fillmode": "overlay",
              "size": 10,
              "solidity": 0.2
             }
            },
            "type": "histogram"
           }
          ],
          "histogram2d": [
           {
            "colorbar": {
             "outlinewidth": 0,
             "ticks": ""
            },
            "colorscale": [
             [
              0,
              "#0d0887"
             ],
             [
              0.1111111111111111,
              "#46039f"
             ],
             [
              0.2222222222222222,
              "#7201a8"
             ],
             [
              0.3333333333333333,
              "#9c179e"
             ],
             [
              0.4444444444444444,
              "#bd3786"
             ],
             [
              0.5555555555555556,
              "#d8576b"
             ],
             [
              0.6666666666666666,
              "#ed7953"
             ],
             [
              0.7777777777777778,
              "#fb9f3a"
             ],
             [
              0.8888888888888888,
              "#fdca26"
             ],
             [
              1,
              "#f0f921"
             ]
            ],
            "type": "histogram2d"
           }
          ],
          "histogram2dcontour": [
           {
            "colorbar": {
             "outlinewidth": 0,
             "ticks": ""
            },
            "colorscale": [
             [
              0,
              "#0d0887"
             ],
             [
              0.1111111111111111,
              "#46039f"
             ],
             [
              0.2222222222222222,
              "#7201a8"
             ],
             [
              0.3333333333333333,
              "#9c179e"
             ],
             [
              0.4444444444444444,
              "#bd3786"
             ],
             [
              0.5555555555555556,
              "#d8576b"
             ],
             [
              0.6666666666666666,
              "#ed7953"
             ],
             [
              0.7777777777777778,
              "#fb9f3a"
             ],
             [
              0.8888888888888888,
              "#fdca26"
             ],
             [
              1,
              "#f0f921"
             ]
            ],
            "type": "histogram2dcontour"
           }
          ],
          "mesh3d": [
           {
            "colorbar": {
             "outlinewidth": 0,
             "ticks": ""
            },
            "type": "mesh3d"
           }
          ],
          "parcoords": [
           {
            "line": {
             "colorbar": {
              "outlinewidth": 0,
              "ticks": ""
             }
            },
            "type": "parcoords"
           }
          ],
          "pie": [
           {
            "automargin": true,
            "type": "pie"
           }
          ],
          "scatter": [
           {
            "fillpattern": {
             "fillmode": "overlay",
             "size": 10,
             "solidity": 0.2
            },
            "type": "scatter"
           }
          ],
          "scatter3d": [
           {
            "line": {
             "colorbar": {
              "outlinewidth": 0,
              "ticks": ""
             }
            },
            "marker": {
             "colorbar": {
              "outlinewidth": 0,
              "ticks": ""
             }
            },
            "type": "scatter3d"
           }
          ],
          "scattercarpet": [
           {
            "marker": {
             "colorbar": {
              "outlinewidth": 0,
              "ticks": ""
             }
            },
            "type": "scattercarpet"
           }
          ],
          "scattergeo": [
           {
            "marker": {
             "colorbar": {
              "outlinewidth": 0,
              "ticks": ""
             }
            },
            "type": "scattergeo"
           }
          ],
          "scattergl": [
           {
            "marker": {
             "colorbar": {
              "outlinewidth": 0,
              "ticks": ""
             }
            },
            "type": "scattergl"
           }
          ],
          "scattermapbox": [
           {
            "marker": {
             "colorbar": {
              "outlinewidth": 0,
              "ticks": ""
             }
            },
            "type": "scattermapbox"
           }
          ],
          "scatterpolar": [
           {
            "marker": {
             "colorbar": {
              "outlinewidth": 0,
              "ticks": ""
             }
            },
            "type": "scatterpolar"
           }
          ],
          "scatterpolargl": [
           {
            "marker": {
             "colorbar": {
              "outlinewidth": 0,
              "ticks": ""
             }
            },
            "type": "scatterpolargl"
           }
          ],
          "scatterternary": [
           {
            "marker": {
             "colorbar": {
              "outlinewidth": 0,
              "ticks": ""
             }
            },
            "type": "scatterternary"
           }
          ],
          "surface": [
           {
            "colorbar": {
             "outlinewidth": 0,
             "ticks": ""
            },
            "colorscale": [
             [
              0,
              "#0d0887"
             ],
             [
              0.1111111111111111,
              "#46039f"
             ],
             [
              0.2222222222222222,
              "#7201a8"
             ],
             [
              0.3333333333333333,
              "#9c179e"
             ],
             [
              0.4444444444444444,
              "#bd3786"
             ],
             [
              0.5555555555555556,
              "#d8576b"
             ],
             [
              0.6666666666666666,
              "#ed7953"
             ],
             [
              0.7777777777777778,
              "#fb9f3a"
             ],
             [
              0.8888888888888888,
              "#fdca26"
             ],
             [
              1,
              "#f0f921"
             ]
            ],
            "type": "surface"
           }
          ],
          "table": [
           {
            "cells": {
             "fill": {
              "color": "#EBF0F8"
             },
             "line": {
              "color": "white"
             }
            },
            "header": {
             "fill": {
              "color": "#C8D4E3"
             },
             "line": {
              "color": "white"
             }
            },
            "type": "table"
           }
          ]
         },
         "layout": {
          "annotationdefaults": {
           "arrowcolor": "#2a3f5f",
           "arrowhead": 0,
           "arrowwidth": 1
          },
          "autotypenumbers": "strict",
          "coloraxis": {
           "colorbar": {
            "outlinewidth": 0,
            "ticks": ""
           }
          },
          "colorscale": {
           "diverging": [
            [
             0,
             "#8e0152"
            ],
            [
             0.1,
             "#c51b7d"
            ],
            [
             0.2,
             "#de77ae"
            ],
            [
             0.3,
             "#f1b6da"
            ],
            [
             0.4,
             "#fde0ef"
            ],
            [
             0.5,
             "#f7f7f7"
            ],
            [
             0.6,
             "#e6f5d0"
            ],
            [
             0.7,
             "#b8e186"
            ],
            [
             0.8,
             "#7fbc41"
            ],
            [
             0.9,
             "#4d9221"
            ],
            [
             1,
             "#276419"
            ]
           ],
           "sequential": [
            [
             0,
             "#0d0887"
            ],
            [
             0.1111111111111111,
             "#46039f"
            ],
            [
             0.2222222222222222,
             "#7201a8"
            ],
            [
             0.3333333333333333,
             "#9c179e"
            ],
            [
             0.4444444444444444,
             "#bd3786"
            ],
            [
             0.5555555555555556,
             "#d8576b"
            ],
            [
             0.6666666666666666,
             "#ed7953"
            ],
            [
             0.7777777777777778,
             "#fb9f3a"
            ],
            [
             0.8888888888888888,
             "#fdca26"
            ],
            [
             1,
             "#f0f921"
            ]
           ],
           "sequentialminus": [
            [
             0,
             "#0d0887"
            ],
            [
             0.1111111111111111,
             "#46039f"
            ],
            [
             0.2222222222222222,
             "#7201a8"
            ],
            [
             0.3333333333333333,
             "#9c179e"
            ],
            [
             0.4444444444444444,
             "#bd3786"
            ],
            [
             0.5555555555555556,
             "#d8576b"
            ],
            [
             0.6666666666666666,
             "#ed7953"
            ],
            [
             0.7777777777777778,
             "#fb9f3a"
            ],
            [
             0.8888888888888888,
             "#fdca26"
            ],
            [
             1,
             "#f0f921"
            ]
           ]
          },
          "colorway": [
           "#636efa",
           "#EF553B",
           "#00cc96",
           "#ab63fa",
           "#FFA15A",
           "#19d3f3",
           "#FF6692",
           "#B6E880",
           "#FF97FF",
           "#FECB52"
          ],
          "font": {
           "color": "#2a3f5f"
          },
          "geo": {
           "bgcolor": "white",
           "lakecolor": "white",
           "landcolor": "#E5ECF6",
           "showlakes": true,
           "showland": true,
           "subunitcolor": "white"
          },
          "hoverlabel": {
           "align": "left"
          },
          "hovermode": "closest",
          "mapbox": {
           "style": "light"
          },
          "paper_bgcolor": "white",
          "plot_bgcolor": "#E5ECF6",
          "polar": {
           "angularaxis": {
            "gridcolor": "white",
            "linecolor": "white",
            "ticks": ""
           },
           "bgcolor": "#E5ECF6",
           "radialaxis": {
            "gridcolor": "white",
            "linecolor": "white",
            "ticks": ""
           }
          },
          "scene": {
           "xaxis": {
            "backgroundcolor": "#E5ECF6",
            "gridcolor": "white",
            "gridwidth": 2,
            "linecolor": "white",
            "showbackground": true,
            "ticks": "",
            "zerolinecolor": "white"
           },
           "yaxis": {
            "backgroundcolor": "#E5ECF6",
            "gridcolor": "white",
            "gridwidth": 2,
            "linecolor": "white",
            "showbackground": true,
            "ticks": "",
            "zerolinecolor": "white"
           },
           "zaxis": {
            "backgroundcolor": "#E5ECF6",
            "gridcolor": "white",
            "gridwidth": 2,
            "linecolor": "white",
            "showbackground": true,
            "ticks": "",
            "zerolinecolor": "white"
           }
          },
          "shapedefaults": {
           "line": {
            "color": "#2a3f5f"
           }
          },
          "ternary": {
           "aaxis": {
            "gridcolor": "white",
            "linecolor": "white",
            "ticks": ""
           },
           "baxis": {
            "gridcolor": "white",
            "linecolor": "white",
            "ticks": ""
           },
           "bgcolor": "#E5ECF6",
           "caxis": {
            "gridcolor": "white",
            "linecolor": "white",
            "ticks": ""
           }
          },
          "title": {
           "x": 0.05
          },
          "xaxis": {
           "automargin": true,
           "gridcolor": "white",
           "linecolor": "white",
           "ticks": "",
           "title": {
            "standoff": 15
           },
           "zerolinecolor": "white",
           "zerolinewidth": 2
          },
          "yaxis": {
           "automargin": true,
           "gridcolor": "white",
           "linecolor": "white",
           "ticks": "",
           "title": {
            "standoff": 15
           },
           "zerolinecolor": "white",
           "zerolinewidth": 2
          }
         }
        },
        "xaxis": {
         "anchor": "y",
         "domain": [
          0,
          1
         ],
         "title": {
          "text": "Year"
         }
        },
        "yaxis": {
         "anchor": "x",
         "domain": [
          0,
          1
         ],
         "title": {
          "text": "Pearson R"
         }
        }
       }
      },
      "text/html": [
       "<div>                            <div id=\"3cd0aa5f-af75-4c82-8b45-3271a0fca674\" class=\"plotly-graph-div\" style=\"height:525px; width:100%;\"></div>            <script type=\"text/javascript\">                require([\"plotly\"], function(Plotly) {                    window.PLOTLYENV=window.PLOTLYENV || {};                                    if (document.getElementById(\"3cd0aa5f-af75-4c82-8b45-3271a0fca674\")) {                    Plotly.newPlot(                        \"3cd0aa5f-af75-4c82-8b45-3271a0fca674\",                        [{\"hovertemplate\":\"Year=%{x}<br>Pearson R=%{y}<extra></extra>\",\"legendgroup\":\"\",\"marker\":{\"color\":\"#636efa\",\"symbol\":\"circle\"},\"mode\":\"markers\",\"name\":\"\",\"orientation\":\"v\",\"showlegend\":false,\"x\":[2000,2005,2015,2004,2010,2001,2002,2008,2012,2007,2014,2006,2011,2003,2013,2009,2017,2018,2016,2020,2019],\"xaxis\":\"x\",\"y\":[0.68,0.68,0.68,0.69,0.69,0.69,0.69,0.69,0.69,0.69,0.7,0.7,0.7,0.7,0.7,0.71,0.72,0.72,0.72,0.72,0.73],\"yaxis\":\"y\",\"type\":\"scatter\"}],                        {\"template\":{\"data\":{\"histogram2dcontour\":[{\"type\":\"histogram2dcontour\",\"colorbar\":{\"outlinewidth\":0,\"ticks\":\"\"},\"colorscale\":[[0.0,\"#0d0887\"],[0.1111111111111111,\"#46039f\"],[0.2222222222222222,\"#7201a8\"],[0.3333333333333333,\"#9c179e\"],[0.4444444444444444,\"#bd3786\"],[0.5555555555555556,\"#d8576b\"],[0.6666666666666666,\"#ed7953\"],[0.7777777777777778,\"#fb9f3a\"],[0.8888888888888888,\"#fdca26\"],[1.0,\"#f0f921\"]]}],\"choropleth\":[{\"type\":\"choropleth\",\"colorbar\":{\"outlinewidth\":0,\"ticks\":\"\"}}],\"histogram2d\":[{\"type\":\"histogram2d\",\"colorbar\":{\"outlinewidth\":0,\"ticks\":\"\"},\"colorscale\":[[0.0,\"#0d0887\"],[0.1111111111111111,\"#46039f\"],[0.2222222222222222,\"#7201a8\"],[0.3333333333333333,\"#9c179e\"],[0.4444444444444444,\"#bd3786\"],[0.5555555555555556,\"#d8576b\"],[0.6666666666666666,\"#ed7953\"],[0.7777777777777778,\"#fb9f3a\"],[0.8888888888888888,\"#fdca26\"],[1.0,\"#f0f921\"]]}],\"heatmap\":[{\"type\":\"heatmap\",\"colorbar\":{\"outlinewidth\":0,\"ticks\":\"\"},\"colorscale\":[[0.0,\"#0d0887\"],[0.1111111111111111,\"#46039f\"],[0.2222222222222222,\"#7201a8\"],[0.3333333333333333,\"#9c179e\"],[0.4444444444444444,\"#bd3786\"],[0.5555555555555556,\"#d8576b\"],[0.6666666666666666,\"#ed7953\"],[0.7777777777777778,\"#fb9f3a\"],[0.8888888888888888,\"#fdca26\"],[1.0,\"#f0f921\"]]}],\"heatmapgl\":[{\"type\":\"heatmapgl\",\"colorbar\":{\"outlinewidth\":0,\"ticks\":\"\"},\"colorscale\":[[0.0,\"#0d0887\"],[0.1111111111111111,\"#46039f\"],[0.2222222222222222,\"#7201a8\"],[0.3333333333333333,\"#9c179e\"],[0.4444444444444444,\"#bd3786\"],[0.5555555555555556,\"#d8576b\"],[0.6666666666666666,\"#ed7953\"],[0.7777777777777778,\"#fb9f3a\"],[0.8888888888888888,\"#fdca26\"],[1.0,\"#f0f921\"]]}],\"contourcarpet\":[{\"type\":\"contourcarpet\",\"colorbar\":{\"outlinewidth\":0,\"ticks\":\"\"}}],\"contour\":[{\"type\":\"contour\",\"colorbar\":{\"outlinewidth\":0,\"ticks\":\"\"},\"colorscale\":[[0.0,\"#0d0887\"],[0.1111111111111111,\"#46039f\"],[0.2222222222222222,\"#7201a8\"],[0.3333333333333333,\"#9c179e\"],[0.4444444444444444,\"#bd3786\"],[0.5555555555555556,\"#d8576b\"],[0.6666666666666666,\"#ed7953\"],[0.7777777777777778,\"#fb9f3a\"],[0.8888888888888888,\"#fdca26\"],[1.0,\"#f0f921\"]]}],\"surface\":[{\"type\":\"surface\",\"colorbar\":{\"outlinewidth\":0,\"ticks\":\"\"},\"colorscale\":[[0.0,\"#0d0887\"],[0.1111111111111111,\"#46039f\"],[0.2222222222222222,\"#7201a8\"],[0.3333333333333333,\"#9c179e\"],[0.4444444444444444,\"#bd3786\"],[0.5555555555555556,\"#d8576b\"],[0.6666666666666666,\"#ed7953\"],[0.7777777777777778,\"#fb9f3a\"],[0.8888888888888888,\"#fdca26\"],[1.0,\"#f0f921\"]]}],\"mesh3d\":[{\"type\":\"mesh3d\",\"colorbar\":{\"outlinewidth\":0,\"ticks\":\"\"}}],\"scatter\":[{\"fillpattern\":{\"fillmode\":\"overlay\",\"size\":10,\"solidity\":0.2},\"type\":\"scatter\"}],\"parcoords\":[{\"type\":\"parcoords\",\"line\":{\"colorbar\":{\"outlinewidth\":0,\"ticks\":\"\"}}}],\"scatterpolargl\":[{\"type\":\"scatterpolargl\",\"marker\":{\"colorbar\":{\"outlinewidth\":0,\"ticks\":\"\"}}}],\"bar\":[{\"error_x\":{\"color\":\"#2a3f5f\"},\"error_y\":{\"color\":\"#2a3f5f\"},\"marker\":{\"line\":{\"color\":\"#E5ECF6\",\"width\":0.5},\"pattern\":{\"fillmode\":\"overlay\",\"size\":10,\"solidity\":0.2}},\"type\":\"bar\"}],\"scattergeo\":[{\"type\":\"scattergeo\",\"marker\":{\"colorbar\":{\"outlinewidth\":0,\"ticks\":\"\"}}}],\"scatterpolar\":[{\"type\":\"scatterpolar\",\"marker\":{\"colorbar\":{\"outlinewidth\":0,\"ticks\":\"\"}}}],\"histogram\":[{\"marker\":{\"pattern\":{\"fillmode\":\"overlay\",\"size\":10,\"solidity\":0.2}},\"type\":\"histogram\"}],\"scattergl\":[{\"type\":\"scattergl\",\"marker\":{\"colorbar\":{\"outlinewidth\":0,\"ticks\":\"\"}}}],\"scatter3d\":[{\"type\":\"scatter3d\",\"line\":{\"colorbar\":{\"outlinewidth\":0,\"ticks\":\"\"}},\"marker\":{\"colorbar\":{\"outlinewidth\":0,\"ticks\":\"\"}}}],\"scattermapbox\":[{\"type\":\"scattermapbox\",\"marker\":{\"colorbar\":{\"outlinewidth\":0,\"ticks\":\"\"}}}],\"scatterternary\":[{\"type\":\"scatterternary\",\"marker\":{\"colorbar\":{\"outlinewidth\":0,\"ticks\":\"\"}}}],\"scattercarpet\":[{\"type\":\"scattercarpet\",\"marker\":{\"colorbar\":{\"outlinewidth\":0,\"ticks\":\"\"}}}],\"carpet\":[{\"aaxis\":{\"endlinecolor\":\"#2a3f5f\",\"gridcolor\":\"white\",\"linecolor\":\"white\",\"minorgridcolor\":\"white\",\"startlinecolor\":\"#2a3f5f\"},\"baxis\":{\"endlinecolor\":\"#2a3f5f\",\"gridcolor\":\"white\",\"linecolor\":\"white\",\"minorgridcolor\":\"white\",\"startlinecolor\":\"#2a3f5f\"},\"type\":\"carpet\"}],\"table\":[{\"cells\":{\"fill\":{\"color\":\"#EBF0F8\"},\"line\":{\"color\":\"white\"}},\"header\":{\"fill\":{\"color\":\"#C8D4E3\"},\"line\":{\"color\":\"white\"}},\"type\":\"table\"}],\"barpolar\":[{\"marker\":{\"line\":{\"color\":\"#E5ECF6\",\"width\":0.5},\"pattern\":{\"fillmode\":\"overlay\",\"size\":10,\"solidity\":0.2}},\"type\":\"barpolar\"}],\"pie\":[{\"automargin\":true,\"type\":\"pie\"}]},\"layout\":{\"autotypenumbers\":\"strict\",\"colorway\":[\"#636efa\",\"#EF553B\",\"#00cc96\",\"#ab63fa\",\"#FFA15A\",\"#19d3f3\",\"#FF6692\",\"#B6E880\",\"#FF97FF\",\"#FECB52\"],\"font\":{\"color\":\"#2a3f5f\"},\"hovermode\":\"closest\",\"hoverlabel\":{\"align\":\"left\"},\"paper_bgcolor\":\"white\",\"plot_bgcolor\":\"#E5ECF6\",\"polar\":{\"bgcolor\":\"#E5ECF6\",\"angularaxis\":{\"gridcolor\":\"white\",\"linecolor\":\"white\",\"ticks\":\"\"},\"radialaxis\":{\"gridcolor\":\"white\",\"linecolor\":\"white\",\"ticks\":\"\"}},\"ternary\":{\"bgcolor\":\"#E5ECF6\",\"aaxis\":{\"gridcolor\":\"white\",\"linecolor\":\"white\",\"ticks\":\"\"},\"baxis\":{\"gridcolor\":\"white\",\"linecolor\":\"white\",\"ticks\":\"\"},\"caxis\":{\"gridcolor\":\"white\",\"linecolor\":\"white\",\"ticks\":\"\"}},\"coloraxis\":{\"colorbar\":{\"outlinewidth\":0,\"ticks\":\"\"}},\"colorscale\":{\"sequential\":[[0.0,\"#0d0887\"],[0.1111111111111111,\"#46039f\"],[0.2222222222222222,\"#7201a8\"],[0.3333333333333333,\"#9c179e\"],[0.4444444444444444,\"#bd3786\"],[0.5555555555555556,\"#d8576b\"],[0.6666666666666666,\"#ed7953\"],[0.7777777777777778,\"#fb9f3a\"],[0.8888888888888888,\"#fdca26\"],[1.0,\"#f0f921\"]],\"sequentialminus\":[[0.0,\"#0d0887\"],[0.1111111111111111,\"#46039f\"],[0.2222222222222222,\"#7201a8\"],[0.3333333333333333,\"#9c179e\"],[0.4444444444444444,\"#bd3786\"],[0.5555555555555556,\"#d8576b\"],[0.6666666666666666,\"#ed7953\"],[0.7777777777777778,\"#fb9f3a\"],[0.8888888888888888,\"#fdca26\"],[1.0,\"#f0f921\"]],\"diverging\":[[0,\"#8e0152\"],[0.1,\"#c51b7d\"],[0.2,\"#de77ae\"],[0.3,\"#f1b6da\"],[0.4,\"#fde0ef\"],[0.5,\"#f7f7f7\"],[0.6,\"#e6f5d0\"],[0.7,\"#b8e186\"],[0.8,\"#7fbc41\"],[0.9,\"#4d9221\"],[1,\"#276419\"]]},\"xaxis\":{\"gridcolor\":\"white\",\"linecolor\":\"white\",\"ticks\":\"\",\"title\":{\"standoff\":15},\"zerolinecolor\":\"white\",\"automargin\":true,\"zerolinewidth\":2},\"yaxis\":{\"gridcolor\":\"white\",\"linecolor\":\"white\",\"ticks\":\"\",\"title\":{\"standoff\":15},\"zerolinecolor\":\"white\",\"automargin\":true,\"zerolinewidth\":2},\"scene\":{\"xaxis\":{\"backgroundcolor\":\"#E5ECF6\",\"gridcolor\":\"white\",\"linecolor\":\"white\",\"showbackground\":true,\"ticks\":\"\",\"zerolinecolor\":\"white\",\"gridwidth\":2},\"yaxis\":{\"backgroundcolor\":\"#E5ECF6\",\"gridcolor\":\"white\",\"linecolor\":\"white\",\"showbackground\":true,\"ticks\":\"\",\"zerolinecolor\":\"white\",\"gridwidth\":2},\"zaxis\":{\"backgroundcolor\":\"#E5ECF6\",\"gridcolor\":\"white\",\"linecolor\":\"white\",\"showbackground\":true,\"ticks\":\"\",\"zerolinecolor\":\"white\",\"gridwidth\":2}},\"shapedefaults\":{\"line\":{\"color\":\"#2a3f5f\"}},\"annotationdefaults\":{\"arrowcolor\":\"#2a3f5f\",\"arrowhead\":0,\"arrowwidth\":1},\"geo\":{\"bgcolor\":\"white\",\"landcolor\":\"#E5ECF6\",\"subunitcolor\":\"white\",\"showland\":true,\"showlakes\":true,\"lakecolor\":\"white\"},\"title\":{\"x\":0.05},\"mapbox\":{\"style\":\"light\"}}},\"xaxis\":{\"anchor\":\"y\",\"domain\":[0.0,1.0],\"title\":{\"text\":\"Year\"}},\"yaxis\":{\"anchor\":\"x\",\"domain\":[0.0,1.0],\"title\":{\"text\":\"Pearson R\"}},\"legend\":{\"tracegroupgap\":0},\"margin\":{\"t\":60}},                        {\"responsive\": true}                    ).then(function(){\n",
       "                            \n",
       "var gd = document.getElementById('3cd0aa5f-af75-4c82-8b45-3271a0fca674');\n",
       "var x = new MutationObserver(function (mutations, observer) {{\n",
       "        var display = window.getComputedStyle(gd).display;\n",
       "        if (!display || display === 'none') {{\n",
       "            console.log([gd, 'removed!']);\n",
       "            Plotly.purge(gd);\n",
       "            observer.disconnect();\n",
       "        }}\n",
       "}});\n",
       "\n",
       "// Listen for the removal of the full notebook cells\n",
       "var notebookContainer = gd.closest('#notebook-container');\n",
       "if (notebookContainer) {{\n",
       "    x.observe(notebookContainer, {childList: true});\n",
       "}}\n",
       "\n",
       "// Listen for the clearing of the current output cell\n",
       "var outputEl = gd.closest('.output');\n",
       "if (outputEl) {{\n",
       "    x.observe(outputEl, {childList: true});\n",
       "}}\n",
       "\n",
       "                        })                };                });            </script>        </div>"
      ]
     },
     "metadata": {},
     "output_type": "display_data"
    }
   ],
   "source": [
    "#df_05[df_05[\"Indicator Code\"] == \"NY.ADJ.NNTY.PC.KD\"].plot.scatter(x=\"Year\", y=\"Pearson R\", figsize=(10,6), ylim=(-1,1), rot=45)\n",
    "\n",
    "fig = px.scatter(df_05[df_05[\"Indicator Code\"] == \"NY.ADJ.NNTY.PC.KD\"], x=\"Year\", y=\"Pearson R\")\n",
    "\n",
    "fig.show()\n",
    "\n",
    "# fig.write_html(\"plot.html\", include_plotlyjs=False)"
   ]
  },
  {
   "cell_type": "code",
   "execution_count": 5,
   "metadata": {},
   "outputs": [
    {
     "data": {
      "text/html": [
       "<div>\n",
       "<style scoped>\n",
       "    .dataframe tbody tr th:only-of-type {\n",
       "        vertical-align: middle;\n",
       "    }\n",
       "\n",
       "    .dataframe tbody tr th {\n",
       "        vertical-align: top;\n",
       "    }\n",
       "\n",
       "    .dataframe thead th {\n",
       "        text-align: right;\n",
       "    }\n",
       "</style>\n",
       "<table border=\"1\" class=\"dataframe\">\n",
       "  <thead>\n",
       "    <tr style=\"text-align: right;\">\n",
       "      <th></th>\n",
       "      <th>Year</th>\n",
       "      <th>Countries</th>\n",
       "      <th>Pearson R</th>\n",
       "      <th>Pearson P-value</th>\n",
       "      <th>Coefficient</th>\n",
       "      <th>P_value</th>\n",
       "      <th>R_Squared</th>\n",
       "      <th>R_Squared_Adj</th>\n",
       "    </tr>\n",
       "  </thead>\n",
       "  <tbody>\n",
       "    <tr>\n",
       "      <th>count</th>\n",
       "      <td>2968.000000</td>\n",
       "      <td>2968.000000</td>\n",
       "      <td>2968.000000</td>\n",
       "      <td>2968.0</td>\n",
       "      <td>2.968000e+03</td>\n",
       "      <td>2968.0</td>\n",
       "      <td>2968.00000</td>\n",
       "      <td>2968.000000</td>\n",
       "    </tr>\n",
       "    <tr>\n",
       "      <th>mean</th>\n",
       "      <td>2009.769879</td>\n",
       "      <td>58.143868</td>\n",
       "      <td>0.159414</td>\n",
       "      <td>0.0</td>\n",
       "      <td>3.475440e+07</td>\n",
       "      <td>0.0</td>\n",
       "      <td>0.30905</td>\n",
       "      <td>0.296863</td>\n",
       "    </tr>\n",
       "    <tr>\n",
       "      <th>std</th>\n",
       "      <td>5.946504</td>\n",
       "      <td>2.683104</td>\n",
       "      <td>0.532656</td>\n",
       "      <td>0.0</td>\n",
       "      <td>2.918712e+08</td>\n",
       "      <td>0.0</td>\n",
       "      <td>0.08324</td>\n",
       "      <td>0.084585</td>\n",
       "    </tr>\n",
       "    <tr>\n",
       "      <th>min</th>\n",
       "      <td>2000.000000</td>\n",
       "      <td>50.000000</td>\n",
       "      <td>-0.730000</td>\n",
       "      <td>0.0</td>\n",
       "      <td>-5.898360e+08</td>\n",
       "      <td>0.0</td>\n",
       "      <td>0.21000</td>\n",
       "      <td>0.200000</td>\n",
       "    </tr>\n",
       "    <tr>\n",
       "      <th>25%</th>\n",
       "      <td>2005.000000</td>\n",
       "      <td>58.000000</td>\n",
       "      <td>-0.490000</td>\n",
       "      <td>0.0</td>\n",
       "      <td>-1.200000e-01</td>\n",
       "      <td>0.0</td>\n",
       "      <td>0.24000</td>\n",
       "      <td>0.230000</td>\n",
       "    </tr>\n",
       "    <tr>\n",
       "      <th>50%</th>\n",
       "      <td>2010.000000</td>\n",
       "      <td>59.000000</td>\n",
       "      <td>0.490000</td>\n",
       "      <td>0.0</td>\n",
       "      <td>5.000000e-02</td>\n",
       "      <td>0.0</td>\n",
       "      <td>0.29000</td>\n",
       "      <td>0.280000</td>\n",
       "    </tr>\n",
       "    <tr>\n",
       "      <th>75%</th>\n",
       "      <td>2015.000000</td>\n",
       "      <td>60.000000</td>\n",
       "      <td>0.590000</td>\n",
       "      <td>0.0</td>\n",
       "      <td>5.400000e-01</td>\n",
       "      <td>0.0</td>\n",
       "      <td>0.36000</td>\n",
       "      <td>0.350000</td>\n",
       "    </tr>\n",
       "    <tr>\n",
       "      <th>max</th>\n",
       "      <td>2021.000000</td>\n",
       "      <td>60.000000</td>\n",
       "      <td>0.760000</td>\n",
       "      <td>0.0</td>\n",
       "      <td>4.613886e+09</td>\n",
       "      <td>0.0</td>\n",
       "      <td>0.58000</td>\n",
       "      <td>0.570000</td>\n",
       "    </tr>\n",
       "  </tbody>\n",
       "</table>\n",
       "</div>"
      ],
      "text/plain": [
       "              Year    Countries    Pearson R  Pearson P-value   Coefficient  \\\n",
       "count  2968.000000  2968.000000  2968.000000           2968.0  2.968000e+03   \n",
       "mean   2009.769879    58.143868     0.159414              0.0  3.475440e+07   \n",
       "std       5.946504     2.683104     0.532656              0.0  2.918712e+08   \n",
       "min    2000.000000    50.000000    -0.730000              0.0 -5.898360e+08   \n",
       "25%    2005.000000    58.000000    -0.490000              0.0 -1.200000e-01   \n",
       "50%    2010.000000    59.000000     0.490000              0.0  5.000000e-02   \n",
       "75%    2015.000000    60.000000     0.590000              0.0  5.400000e-01   \n",
       "max    2021.000000    60.000000     0.760000              0.0  4.613886e+09   \n",
       "\n",
       "       P_value   R_Squared  R_Squared_Adj  \n",
       "count   2968.0  2968.00000    2968.000000  \n",
       "mean       0.0     0.30905       0.296863  \n",
       "std        0.0     0.08324       0.084585  \n",
       "min        0.0     0.21000       0.200000  \n",
       "25%        0.0     0.24000       0.230000  \n",
       "50%        0.0     0.29000       0.280000  \n",
       "75%        0.0     0.36000       0.350000  \n",
       "max        0.0     0.58000       0.570000  "
      ]
     },
     "execution_count": 5,
     "metadata": {},
     "output_type": "execute_result"
    }
   ],
   "source": [
    "df_05.describe()"
   ]
  },
  {
   "cell_type": "code",
   "execution_count": 6,
   "metadata": {},
   "outputs": [
    {
     "data": {
      "text/html": [
       "<div>\n",
       "<style scoped>\n",
       "    .dataframe tbody tr th:only-of-type {\n",
       "        vertical-align: middle;\n",
       "    }\n",
       "\n",
       "    .dataframe tbody tr th {\n",
       "        vertical-align: top;\n",
       "    }\n",
       "\n",
       "    .dataframe thead th {\n",
       "        text-align: right;\n",
       "    }\n",
       "</style>\n",
       "<table border=\"1\" class=\"dataframe\">\n",
       "  <thead>\n",
       "    <tr style=\"text-align: right;\">\n",
       "      <th></th>\n",
       "      <th>Year</th>\n",
       "      <th>Indicator Code</th>\n",
       "      <th>Countries</th>\n",
       "      <th>Pearson R</th>\n",
       "      <th>Pearson P-value</th>\n",
       "      <th>Coefficient</th>\n",
       "      <th>P_value</th>\n",
       "      <th>R_Squared</th>\n",
       "      <th>R_Squared_Adj</th>\n",
       "      <th>Indicator Name</th>\n",
       "      <th>Topic</th>\n",
       "    </tr>\n",
       "  </thead>\n",
       "  <tbody>\n",
       "    <tr>\n",
       "      <th>52904</th>\n",
       "      <td>2007</td>\n",
       "      <td>PA.NUS.PPPC.RF</td>\n",
       "      <td>60</td>\n",
       "      <td>0.76</td>\n",
       "      <td>0.0</td>\n",
       "      <td>0.01</td>\n",
       "      <td>0.0</td>\n",
       "      <td>0.58</td>\n",
       "      <td>0.57</td>\n",
       "      <td>Price level ratio of PPP conversion factor (GD...</td>\n",
       "      <td>Economic Policy &amp; Debt: Purchasing power parity</td>\n",
       "    </tr>\n",
       "    <tr>\n",
       "      <th>52873</th>\n",
       "      <td>2008</td>\n",
       "      <td>PA.NUS.PPPC.RF</td>\n",
       "      <td>60</td>\n",
       "      <td>0.76</td>\n",
       "      <td>0.0</td>\n",
       "      <td>0.01</td>\n",
       "      <td>0.0</td>\n",
       "      <td>0.58</td>\n",
       "      <td>0.57</td>\n",
       "      <td>Price level ratio of PPP conversion factor (GD...</td>\n",
       "      <td>Economic Policy &amp; Debt: Purchasing power parity</td>\n",
       "    </tr>\n",
       "    <tr>\n",
       "      <th>52806</th>\n",
       "      <td>2019</td>\n",
       "      <td>SH.XPD.GHED.PP.CD</td>\n",
       "      <td>59</td>\n",
       "      <td>0.75</td>\n",
       "      <td>0.0</td>\n",
       "      <td>55.72</td>\n",
       "      <td>0.0</td>\n",
       "      <td>0.57</td>\n",
       "      <td>0.56</td>\n",
       "      <td>Domestic general government health expenditure...</td>\n",
       "      <td>Health: Health systems</td>\n",
       "    </tr>\n",
       "    <tr>\n",
       "      <th>52852</th>\n",
       "      <td>2018</td>\n",
       "      <td>SH.XPD.GHED.PP.CD</td>\n",
       "      <td>59</td>\n",
       "      <td>0.75</td>\n",
       "      <td>0.0</td>\n",
       "      <td>53.15</td>\n",
       "      <td>0.0</td>\n",
       "      <td>0.56</td>\n",
       "      <td>0.56</td>\n",
       "      <td>Domestic general government health expenditure...</td>\n",
       "      <td>Health: Health systems</td>\n",
       "    </tr>\n",
       "    <tr>\n",
       "      <th>52779</th>\n",
       "      <td>2017</td>\n",
       "      <td>SH.XPD.GHED.PP.CD</td>\n",
       "      <td>59</td>\n",
       "      <td>0.75</td>\n",
       "      <td>0.0</td>\n",
       "      <td>50.21</td>\n",
       "      <td>0.0</td>\n",
       "      <td>0.56</td>\n",
       "      <td>0.56</td>\n",
       "      <td>Domestic general government health expenditure...</td>\n",
       "      <td>Health: Health systems</td>\n",
       "    </tr>\n",
       "    <tr>\n",
       "      <th>...</th>\n",
       "      <td>...</td>\n",
       "      <td>...</td>\n",
       "      <td>...</td>\n",
       "      <td>...</td>\n",
       "      <td>...</td>\n",
       "      <td>...</td>\n",
       "      <td>...</td>\n",
       "      <td>...</td>\n",
       "      <td>...</td>\n",
       "      <td>...</td>\n",
       "      <td>...</td>\n",
       "    </tr>\n",
       "    <tr>\n",
       "      <th>4279</th>\n",
       "      <td>2019</td>\n",
       "      <td>SH.XPD.PVTD.CH.ZS</td>\n",
       "      <td>59</td>\n",
       "      <td>-0.46</td>\n",
       "      <td>0.0</td>\n",
       "      <td>-0.30</td>\n",
       "      <td>0.0</td>\n",
       "      <td>0.21</td>\n",
       "      <td>0.20</td>\n",
       "      <td>Domestic private health expenditure (% of curr...</td>\n",
       "      <td>Health: Health systems</td>\n",
       "    </tr>\n",
       "    <tr>\n",
       "      <th>4281</th>\n",
       "      <td>2015</td>\n",
       "      <td>SP.POP.3034.FE.5Y</td>\n",
       "      <td>60</td>\n",
       "      <td>-0.46</td>\n",
       "      <td>0.0</td>\n",
       "      <td>-0.02</td>\n",
       "      <td>0.0</td>\n",
       "      <td>0.22</td>\n",
       "      <td>0.20</td>\n",
       "      <td>Population ages 30-34, female (% of female pop...</td>\n",
       "      <td>Health: Population: Structure</td>\n",
       "    </tr>\n",
       "    <tr>\n",
       "      <th>4284</th>\n",
       "      <td>2007</td>\n",
       "      <td>SP.DYN.IMRT.IN</td>\n",
       "      <td>59</td>\n",
       "      <td>-0.46</td>\n",
       "      <td>0.0</td>\n",
       "      <td>-0.26</td>\n",
       "      <td>0.0</td>\n",
       "      <td>0.22</td>\n",
       "      <td>0.20</td>\n",
       "      <td>Mortality rate, infant (per 1,000 live births)</td>\n",
       "      <td>Health: Mortality</td>\n",
       "    </tr>\n",
       "    <tr>\n",
       "      <th>4286</th>\n",
       "      <td>2019</td>\n",
       "      <td>NV.AGR.TOTL.ZS</td>\n",
       "      <td>58</td>\n",
       "      <td>-0.46</td>\n",
       "      <td>0.0</td>\n",
       "      <td>-0.09</td>\n",
       "      <td>0.0</td>\n",
       "      <td>0.22</td>\n",
       "      <td>0.20</td>\n",
       "      <td>Agriculture, forestry, and fishing, value adde...</td>\n",
       "      <td>Economic Policy &amp; Debt: National accounts: Sha...</td>\n",
       "    </tr>\n",
       "    <tr>\n",
       "      <th>4249</th>\n",
       "      <td>2004</td>\n",
       "      <td>SH.DYN.0509</td>\n",
       "      <td>59</td>\n",
       "      <td>-0.46</td>\n",
       "      <td>0.0</td>\n",
       "      <td>-0.03</td>\n",
       "      <td>0.0</td>\n",
       "      <td>0.21</td>\n",
       "      <td>0.20</td>\n",
       "      <td>Probability of dying among children ages 5-9 y...</td>\n",
       "      <td>Health: Mortality</td>\n",
       "    </tr>\n",
       "  </tbody>\n",
       "</table>\n",
       "<p>2968 rows × 11 columns</p>\n",
       "</div>"
      ],
      "text/plain": [
       "       Year     Indicator Code  Countries  Pearson R  Pearson P-value  \\\n",
       "52904  2007     PA.NUS.PPPC.RF         60       0.76              0.0   \n",
       "52873  2008     PA.NUS.PPPC.RF         60       0.76              0.0   \n",
       "52806  2019  SH.XPD.GHED.PP.CD         59       0.75              0.0   \n",
       "52852  2018  SH.XPD.GHED.PP.CD         59       0.75              0.0   \n",
       "52779  2017  SH.XPD.GHED.PP.CD         59       0.75              0.0   \n",
       "...     ...                ...        ...        ...              ...   \n",
       "4279   2019  SH.XPD.PVTD.CH.ZS         59      -0.46              0.0   \n",
       "4281   2015  SP.POP.3034.FE.5Y         60      -0.46              0.0   \n",
       "4284   2007     SP.DYN.IMRT.IN         59      -0.46              0.0   \n",
       "4286   2019     NV.AGR.TOTL.ZS         58      -0.46              0.0   \n",
       "4249   2004        SH.DYN.0509         59      -0.46              0.0   \n",
       "\n",
       "       Coefficient  P_value  R_Squared  R_Squared_Adj  \\\n",
       "52904         0.01      0.0       0.58           0.57   \n",
       "52873         0.01      0.0       0.58           0.57   \n",
       "52806        55.72      0.0       0.57           0.56   \n",
       "52852        53.15      0.0       0.56           0.56   \n",
       "52779        50.21      0.0       0.56           0.56   \n",
       "...            ...      ...        ...            ...   \n",
       "4279         -0.30      0.0       0.21           0.20   \n",
       "4281         -0.02      0.0       0.22           0.20   \n",
       "4284         -0.26      0.0       0.22           0.20   \n",
       "4286         -0.09      0.0       0.22           0.20   \n",
       "4249         -0.03      0.0       0.21           0.20   \n",
       "\n",
       "                                          Indicator Name  \\\n",
       "52904  Price level ratio of PPP conversion factor (GD...   \n",
       "52873  Price level ratio of PPP conversion factor (GD...   \n",
       "52806  Domestic general government health expenditure...   \n",
       "52852  Domestic general government health expenditure...   \n",
       "52779  Domestic general government health expenditure...   \n",
       "...                                                  ...   \n",
       "4279   Domestic private health expenditure (% of curr...   \n",
       "4281   Population ages 30-34, female (% of female pop...   \n",
       "4284      Mortality rate, infant (per 1,000 live births)   \n",
       "4286   Agriculture, forestry, and fishing, value adde...   \n",
       "4249   Probability of dying among children ages 5-9 y...   \n",
       "\n",
       "                                                   Topic  \n",
       "52904    Economic Policy & Debt: Purchasing power parity  \n",
       "52873    Economic Policy & Debt: Purchasing power parity  \n",
       "52806                             Health: Health systems  \n",
       "52852                             Health: Health systems  \n",
       "52779                             Health: Health systems  \n",
       "...                                                  ...  \n",
       "4279                              Health: Health systems  \n",
       "4281                       Health: Population: Structure  \n",
       "4284                                   Health: Mortality  \n",
       "4286   Economic Policy & Debt: National accounts: Sha...  \n",
       "4249                                   Health: Mortality  \n",
       "\n",
       "[2968 rows x 11 columns]"
      ]
     },
     "execution_count": 6,
     "metadata": {},
     "output_type": "execute_result"
    }
   ],
   "source": [
    "df_05.sort_values(\"R_Squared_Adj\", ascending=False)"
   ]
  }
 ],
 "metadata": {
  "kernelspec": {
   "display_name": "Python 3",
   "language": "python",
   "name": "python3"
  },
  "language_info": {
   "codemirror_mode": {
    "name": "ipython",
    "version": 3
   },
   "file_extension": ".py",
   "mimetype": "text/x-python",
   "name": "python",
   "nbconvert_exporter": "python",
   "pygments_lexer": "ipython3",
   "version": "3.10.4 (main, Jan 25 2023, 00:13:50) [GCC 9.4.0]"
  },
  "orig_nbformat": 4,
  "vscode": {
   "interpreter": {
    "hash": "3ad933181bd8a04b432d3370b9dc3b0662ad032c4dfaa4e4f1596c548f763858"
   }
  }
 },
 "nbformat": 4,
 "nbformat_minor": 2
}
